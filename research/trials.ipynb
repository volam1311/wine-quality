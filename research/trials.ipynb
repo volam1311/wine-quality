{
 "cells": [
  {
   "cell_type": "code",
   "execution_count": 1,
   "id": "3189abc8",
   "metadata": {},
   "outputs": [
    {
     "name": "stdout",
     "output_type": "stream",
     "text": [
      "{'name': 'lam', 'email': 'vophuclam1311@gmail.com'}\n"
     ]
    }
   ],
   "source": [
    "import yaml\n",
    "yaml_file_path = \"test.yaml\"\n",
    "\n",
    "with open(yaml_file_path, 'r') as yaml_file:\n",
    "    data = yaml.safe_load(yaml_file)\n",
    "\n",
    "print(data)"
   ]
  },
  {
   "cell_type": "markdown",
   "id": "0334f4fa",
   "metadata": {},
   "source": [
    "# CONFIG BOX"
   ]
  },
  {
   "cell_type": "code",
   "execution_count": 2,
   "id": "7c2267ca",
   "metadata": {},
   "outputs": [],
   "source": [
    "from box import ConfigBox\n",
    "d = ConfigBox(data)"
   ]
  },
  {
   "cell_type": "code",
   "execution_count": 3,
   "id": "bd7280fd",
   "metadata": {},
   "outputs": [
    {
     "data": {
      "text/plain": [
       "'lam'"
      ]
     },
     "execution_count": 3,
     "metadata": {},
     "output_type": "execute_result"
    }
   ],
   "source": [
    "d.name"
   ]
  },
  {
   "cell_type": "code",
   "execution_count": 4,
   "id": "74a4f266",
   "metadata": {},
   "outputs": [
    {
     "data": {
      "text/plain": [
       "'vophuclam1311@gmail.com'"
      ]
     },
     "execution_count": 4,
     "metadata": {},
     "output_type": "execute_result"
    }
   ],
   "source": [
    "d.email"
   ]
  },
  {
   "cell_type": "code",
   "execution_count": null,
   "id": "173f77b5",
   "metadata": {},
   "outputs": [],
   "source": []
  }
 ],
 "metadata": {
  "kernelspec": {
   "display_name": "venv",
   "language": "python",
   "name": "python3"
  },
  "language_info": {
   "codemirror_mode": {
    "name": "ipython",
    "version": 3
   },
   "file_extension": ".py",
   "mimetype": "text/x-python",
   "name": "python",
   "nbconvert_exporter": "python",
   "pygments_lexer": "ipython3",
   "version": "3.12.7"
  }
 },
 "nbformat": 4,
 "nbformat_minor": 5
}
